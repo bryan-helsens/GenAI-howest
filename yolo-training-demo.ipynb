{
 "cells": [
  {
   "cell_type": "markdown",
   "metadata": {},
   "source": [
    "# YOLO Object Detection Demo\n",
    "\n",
    "Druk op de volgende knop om deze notebook te openen in Google colab waar je gebruik kan maken van een GPU:\n",
    "\n",
    "[![Open in Colab](https://colab.research.google.com/assets/colab-badge.svg)](https://colab.research.google.com/github/WimCasteels/Masterclass4-software-met-genAI/blob/main/yolo-training-demo.ipynb)\n",
    "\n",
    "Zorg dat je voor voor hardwareverscnelling bij runtimetype een GPU selecteert (bv. de gratis T4 optie).\n",
    "\n",
    "## Inleiding\n",
    "Deze notebook demonstreert het trainen en gebruiken van een YOLO (You Only Look Once) object detectiemodel. We zullen de volgende stappen doorlopen:\n",
    "1. Voorbereiden van de dataset\n",
    "2. Installeren van benodigde bibliotheken\n",
    "3. Trainen van het model\n",
    "4. Uitvoeren van object detectie op een testafbeelding"
   ]
  },
  {
   "cell_type": "markdown",
   "metadata": {},
   "source": [
    "## Stap 1: Dataset Voorbereiding\n",
    "\n",
    "We beginnen met het downloaden en uitpakken van de gegelabelde dataset. Het is belangrijk om ervoor te zorgen dat de dataset correct is gestructureerd met:\n",
    "- Afbeeldingen\n",
    "- Bijbehorende annotatie bestanden\n",
    "- Een configuratiebestand (data.yaml)"
   ]
  },
  {
   "cell_type": "code",
   "execution_count": null,
   "metadata": {},
   "outputs": [],
   "source": [
    "# downloaden van de dataset met gdown \n",
    "# Install gdown first\n",
    "!pip install gdown\n",
    "!gdown https://drive.google.com/uc?id=1mSgiAp38afoI_qG8oUyyxOOxz18nAbw4"
   ]
  },
  {
   "cell_type": "code",
   "execution_count": null,
   "metadata": {},
   "outputs": [],
   "source": [
    "# Uitpakken van de dataset\n",
    "!unzip Guns_labeled.zip"
   ]
  },
  {
   "cell_type": "markdown",
   "metadata": {},
   "source": [
    "## Stap 2: Installatie van Ultralytics\n",
    "\n",
    "Ultralytics biedt een gebruiksvriendelijke implementatie van YOLO. We installeren de bibliotheek die alle benodigde functies voor object detectie bevat."
   ]
  },
  {
   "cell_type": "code",
   "execution_count": null,
   "metadata": {},
   "outputs": [],
   "source": [
    "# Installeer Ultralytics\n",
    "!pip install ultralytics"
   ]
  },
  {
   "cell_type": "markdown",
   "metadata": {},
   "source": [
    "## Stap 3: Model Training\n",
    "\n",
    "We gebruiken het voorgetrainde YOLO Nano model (yolov8n.pt) als startpunt:\n",
    "- Laad het basismodel\n",
    "- Train op onze specifieke dataset\n",
    "- Configureer trainingsparameters zoals epochs, batch size en afbeeldingsgrootte"
   ]
  },
  {
   "cell_type": "code",
   "execution_count": null,
   "metadata": {},
   "outputs": [],
   "source": [
    "import os\n",
    "from ultralytics import YOLO\n",
    "\n",
    "# Laad het basismodel\n",
    "model = YOLO('yolov8n.pt')\n",
    "\n",
    "# Train het model\n",
    "results = model.train(\n",
    "    data='/content/data.yaml',  # Pad naar dataset configuratie\n",
    "    epochs=15,                  # Aantal trainingsiteraties\n",
    "    batch=32,                   # Batch grootte\n",
    "    imgsz=640                   # Afbeeldingsgrootte\n",
    ")"
   ]
  },
  {
   "cell_type": "markdown",
   "metadata": {},
   "source": [
    "## Stap 4: Object Detectie\n",
    "\n",
    "Na het trainen laden we het beste model en voeren we object detectie uit op een testafbeelding. We zullen:\n",
    "- Het beste getrainde model laden\n",
    "- Detectie uitvoeren op een afbeelding\n",
    "- Resultaten visualiseren en opslaan"
   ]
  },
  {
   "cell_type": "code",
   "execution_count": null,
   "metadata": {},
   "outputs": [],
   "source": [
    "# Laad het beste getrainde model\n",
    "model = YOLO('./runs/detect/train/weights/best.pt')\n",
    "\n",
    "# Voer detectie uit op testafbeelding\n",
    "results = model('/content/test/images/armas-1-_jpg.rf.44bc9f707a936ea37cd093e5f9b43d64.jpg')\n",
    "\n",
    "# Verwerk en visualiseer resultaten\n",
    "for result in results:\n",
    "    # Verschillende soorten uitvoer ophalen\n",
    "    boxes = result.boxes        # Begrenzingsvakken\n",
    "    masks = result.masks        # Segmentatiemaskers\n",
    "    keypoints = result.keypoints # Keypoints voor pose detectie\n",
    "    probs = result.probs        # Classificatiewaarschijnlijkheden\n",
    "    obb = result.obb            # Georiënteerde begrenzingsvakken\n",
    "    \n",
    "    # Resultaten weergeven\n",
    "    result.show()  # Toon op het scherm\n",
    "    result.save(filename=\"result.jpg\")  # Sla op schijf op"
   ]
  },
  {
   "cell_type": "markdown",
   "metadata": {},
   "source": [
    "## Conclusie\n",
    "\n",
    "We hebben nu een volledige YOLO object detectie workflow doorlopen:\n",
    "1. Dataset voorbereid\n",
    "2. Ultralytics geïnstalleerd\n",
    "3. Model getraind\n",
    "4. Detectie uitgevoerd op een testafbeelding\n",
    "\n",
    "Mogelijke vervolgstappen:\n",
    "- Hyperparameters afstemmen\n",
    "- Meer data toevoegen\n",
    "- Model evalueren op verschillende testsets\n",
    "- Model downloaden om te gebruiken in een applicatie"
   ]
  }
 ],
 "metadata": {
  "kernelspec": {
   "display_name": "Python 3",
   "language": "python",
   "name": "python3"
  },
  "language_info": {
   "name": "python",
   "version": "3.8.5"
  }
 },
 "nbformat": 4,
 "nbformat_minor": 4
}
